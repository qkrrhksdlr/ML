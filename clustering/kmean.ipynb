{
 "cells": [
  {
   "cell_type": "code",
   "execution_count": 84,
   "metadata": {},
   "outputs": [],
   "source": [
    "# sklearn dataset : https://scikit-learn.org/stable/datasets/index.html\n",
    "\n",
    "from sklearn.datasets import load_iris\n",
    "\n",
    "import numpy as np\n",
    "import pandas as pd\n",
    "import seaborn as sns\n",
    "import matplotlib.pyplot as plt\n",
    "import warnings\n",
    "warnings.filterwarnings(action='ignore')\n",
    "\n",
    "from sklearn.ensemble import RandomForestClassifier\n",
    "from sklearn.model_selection import train_test_split\n",
    "from sklearn.metrics import classification_report\n",
    "from sklearn.metrics import accuracy_score, recall_score, precision_score, f1_score, confusion_matrix, roc_auc_score, roc_curve, precision_recall_curve, fbeta_score\n",
    "\n",
    "from sklearn.preprocessing import StandardScaler\n",
    "from sklearn.model_selection import GridSearchCV, cross_val_score, KFold, StratifiedKFold\n",
    "from sklearn.metrics import silhouette_score, silhouette_samples\n"
   ]
  },
  {
   "cell_type": "code",
   "execution_count": 108,
   "metadata": {},
   "outputs": [],
   "source": [
    "# ---------- X : dataframe 피쳐 , clables:centroid_pred\n",
    "def myscore(X, clabels, model=None):\n",
    "    score_df = pd.DataFrame()\n",
    "    scoef = silhouette_samples(X, clabels)\n",
    "    score_df[\"scoef\"] = scoef\n",
    "    score_df[\"cluster_pred\"] = clabels\n",
    "\n",
    "    print(\"전체 평균  실루엣 계수:\", np.mean(scoef))\n",
    "    print(score_df.groupby(\"cluster_pred\")[\"scoef\"].mean())\n",
    "    \n",
    "    if model != None:\n",
    "        #inertia_ : Sum of squared distances of samples to their closest cluster center.\n",
    "        #중앙점으로부터 각 점들의 거리^2 합\n",
    "        #작을수록 중앙점으로 몰려있다 = 응집도가 높다\n",
    "        print(\"응집도 : \", model.inertia_) #응집도"
   ]
  },
  {
   "cell_type": "code",
   "execution_count": 103,
   "metadata": {},
   "outputs": [],
   "source": [
    "dataset = load_iris()\n",
    "df = pd.DataFrame(data=dataset.data,\n",
    "                  #columns=dataset.feature_names\n",
    "                  columns=['sepal_length', 'sepal_width', 'petal_length', 'petal_width']\n",
    "                  )\n",
    "# df[\"target\"] = dataset.target"
   ]
  },
  {
   "cell_type": "markdown",
   "metadata": {},
   "source": [
    "#### KMeans.predict : 중심점(centroid) 선정"
   ]
  },
  {
   "cell_type": "code",
   "execution_count": 104,
   "metadata": {},
   "outputs": [
    {
     "data": {
      "text/html": [
       "<div>\n",
       "<style scoped>\n",
       "    .dataframe tbody tr th:only-of-type {\n",
       "        vertical-align: middle;\n",
       "    }\n",
       "\n",
       "    .dataframe tbody tr th {\n",
       "        vertical-align: top;\n",
       "    }\n",
       "\n",
       "    .dataframe thead th {\n",
       "        text-align: right;\n",
       "    }\n",
       "</style>\n",
       "<table border=\"1\" class=\"dataframe\">\n",
       "  <thead>\n",
       "    <tr style=\"text-align: right;\">\n",
       "      <th></th>\n",
       "      <th>sepal_length</th>\n",
       "      <th>sepal_width</th>\n",
       "      <th>petal_length</th>\n",
       "      <th>petal_width</th>\n",
       "      <th>cluster_pred</th>\n",
       "      <th>cluster_labels</th>\n",
       "    </tr>\n",
       "  </thead>\n",
       "  <tbody>\n",
       "    <tr>\n",
       "      <th>145</th>\n",
       "      <td>6.7</td>\n",
       "      <td>3.0</td>\n",
       "      <td>5.2</td>\n",
       "      <td>2.3</td>\n",
       "      <td>2</td>\n",
       "      <td>2</td>\n",
       "    </tr>\n",
       "    <tr>\n",
       "      <th>146</th>\n",
       "      <td>6.3</td>\n",
       "      <td>2.5</td>\n",
       "      <td>5.0</td>\n",
       "      <td>1.9</td>\n",
       "      <td>0</td>\n",
       "      <td>0</td>\n",
       "    </tr>\n",
       "    <tr>\n",
       "      <th>147</th>\n",
       "      <td>6.5</td>\n",
       "      <td>3.0</td>\n",
       "      <td>5.2</td>\n",
       "      <td>2.0</td>\n",
       "      <td>2</td>\n",
       "      <td>2</td>\n",
       "    </tr>\n",
       "    <tr>\n",
       "      <th>148</th>\n",
       "      <td>6.2</td>\n",
       "      <td>3.4</td>\n",
       "      <td>5.4</td>\n",
       "      <td>2.3</td>\n",
       "      <td>2</td>\n",
       "      <td>2</td>\n",
       "    </tr>\n",
       "    <tr>\n",
       "      <th>149</th>\n",
       "      <td>5.9</td>\n",
       "      <td>3.0</td>\n",
       "      <td>5.1</td>\n",
       "      <td>1.8</td>\n",
       "      <td>0</td>\n",
       "      <td>0</td>\n",
       "    </tr>\n",
       "  </tbody>\n",
       "</table>\n",
       "</div>"
      ],
      "text/plain": [
       "     sepal_length  sepal_width  petal_length  petal_width  cluster_pred  \\\n",
       "145           6.7          3.0           5.2          2.3             2   \n",
       "146           6.3          2.5           5.0          1.9             0   \n",
       "147           6.5          3.0           5.2          2.0             2   \n",
       "148           6.2          3.4           5.4          2.3             2   \n",
       "149           5.9          3.0           5.1          1.8             0   \n",
       "\n",
       "     cluster_labels  \n",
       "145               2  \n",
       "146               0  \n",
       "147               2  \n",
       "148               2  \n",
       "149               0  "
      ]
     },
     "execution_count": 104,
     "metadata": {},
     "output_type": "execute_result"
    }
   ],
   "source": [
    "from sklearn.cluster import KMeans\n",
    "model = KMeans(n_clusters=3, init='k-means++', max_iter=300, random_state=11)\n",
    "model.fit(df[['sepal_length', 'sepal_width']])\n",
    "cluster_pred = model.predict(df[['sepal_length', 'sepal_width']])\n",
    "\n",
    "df[\"cluster_pred\"] = cluster_pred\n",
    "df[\"cluster_labels\"] = model.labels_\n",
    "df.tail()"
   ]
  },
  {
   "cell_type": "markdown",
   "metadata": {},
   "source": [
    "#### 시각화 : 중심점,데이터"
   ]
  },
  {
   "cell_type": "code",
   "execution_count": 88,
   "metadata": {},
   "outputs": [
    {
     "data": {
      "image/png": "[encoded data removed]",
      "text/plain": [
       "<Figure size 432x288 with 1 Axes>"
      ]
     },
     "metadata": {
      "needs_background": "light"
     },
     "output_type": "display_data"
    }
   ],
   "source": [
    "center_df = pd.DataFrame(model.cluster_centers_,columns=['sepal_length', 'sepal_width'] )\n",
    "cx = center_df[\"sepal_length\"]\n",
    "cy = center_df[\"sepal_width\"]\n",
    "\n",
    "color = [\"b\",\"y\",\"g\"]\n",
    "plt.scatter(df[\"sepal_length\"], df[\"sepal_width\"], c=df[\"cluster_pred\"])\n",
    "plt.scatter(cx, cy, c=\"r\", marker=\"*\")\n",
    "# plt.legend()\n",
    "plt.show()\n"
   ]
  },
  {
   "cell_type": "markdown",
   "metadata": {},
   "source": [
    "#### 검증 : 군집 실루엣 계수"
   ]
  },
  {
   "cell_type": "code",
   "execution_count": 109,
   "metadata": {},
   "outputs": [
    {
     "name": "stdout",
     "output_type": "stream",
     "text": [
      "전체 평균  실루엣 계수: 0.4450525692083638\n",
      "cluster_pred\n",
      "0    0.404766\n",
      "1    0.490080\n",
      "2    0.442581\n",
      "Name: scoef, dtype: float64\n",
      "응집도 :  37.0507021276596\n"
     ]
    }
   ],
   "source": [
    "myscore(df[['sepal_length', 'sepal_width']], df[\"cluster_pred\"], model)\n"
   ]
  },
  {
   "cell_type": "markdown",
   "metadata": {},
   "source": [
    "## 주요 피쳐로 군집(clustering)"
   ]
  },
  {
   "cell_type": "code",
   "execution_count": 90,
   "metadata": {},
   "outputs": [
    {
     "data": {
      "image/png": "[encoded data removed]",
      "text/plain": [
       "<Figure size 432x288 with 1 Axes>"
      ]
     },
     "metadata": {
      "needs_background": "light"
     },
     "output_type": "display_data"
    }
   ],
   "source": [
    "dataset = load_iris()\n",
    "df = pd.DataFrame(data=dataset.data,\n",
    "                  columns=['sepal_length', 'sepal_width', 'petal_length', 'petal_width']\n",
    "                  )\n",
    "\n",
    "model = KMeans(n_clusters=3, init='k-means++', max_iter=300, random_state=11)\n",
    "model.fit(df[['petal_length', 'petal_width']])\n",
    "cluster_pred = model.predict(df[['petal_length', 'petal_width']])\n",
    "\n",
    "df[\"cluster_pred\"] = cluster_pred\n",
    "df[\"cluster_labels\"] = model.labels_\n",
    "\n",
    "center_df = pd.DataFrame(model.cluster_centers_,columns=['petal_length', 'petal_width'] )\n",
    "cx = center_df[\"petal_length\"]\n",
    "cy = center_df[\"petal_width\"]\n",
    "\n",
    "plt.scatter(df[\"petal_length\"], df[\"petal_width\"], c=df[\"cluster_pred\"])\n",
    "plt.scatter(cx, cy, c=\"r\", marker=\"*\")\n",
    "plt.show()"
   ]
  },
  {
   "cell_type": "code",
   "execution_count": 110,
   "metadata": {},
   "outputs": [
    {
     "name": "stdout",
     "output_type": "stream",
     "text": [
      "전체 평균  실루엣 계수: 0.5085037699826875\n",
      "cluster_pred\n",
      "0    0.354019\n",
      "1    0.922468\n",
      "2    0.242323\n",
      "Name: scoef, dtype: float64\n",
      "응집도 :  37.0507021276596\n"
     ]
    }
   ],
   "source": [
    "myscore(df[['petal_length', 'petal_width']], df[\"cluster_pred\"], model)"
   ]
  },
  {
   "cell_type": "markdown",
   "metadata": {},
   "source": [
    "## 정규화 한 이후의 실루엣 계수"
   ]
  },
  {
   "cell_type": "code",
   "execution_count": 91,
   "metadata": {},
   "outputs": [
    {
     "data": {
      "text/html": [
       "<div>\n",
       "<style scoped>\n",
       "    .dataframe tbody tr th:only-of-type {\n",
       "        vertical-align: middle;\n",
       "    }\n",
       "\n",
       "    .dataframe tbody tr th {\n",
       "        vertical-align: top;\n",
       "    }\n",
       "\n",
       "    .dataframe thead th {\n",
       "        text-align: right;\n",
       "    }\n",
       "</style>\n",
       "<table border=\"1\" class=\"dataframe\">\n",
       "  <thead>\n",
       "    <tr style=\"text-align: right;\">\n",
       "      <th></th>\n",
       "      <th>sepal_length</th>\n",
       "      <th>sepal_width</th>\n",
       "      <th>petal_length</th>\n",
       "      <th>petal_width</th>\n",
       "    </tr>\n",
       "  </thead>\n",
       "  <tbody>\n",
       "    <tr>\n",
       "      <th>0</th>\n",
       "      <td>-0.900681</td>\n",
       "      <td>1.019004</td>\n",
       "      <td>-1.340227</td>\n",
       "      <td>-1.315444</td>\n",
       "    </tr>\n",
       "    <tr>\n",
       "      <th>1</th>\n",
       "      <td>-1.143017</td>\n",
       "      <td>-0.131979</td>\n",
       "      <td>-1.340227</td>\n",
       "      <td>-1.315444</td>\n",
       "    </tr>\n",
       "    <tr>\n",
       "      <th>2</th>\n",
       "      <td>-1.385353</td>\n",
       "      <td>0.328414</td>\n",
       "      <td>-1.397064</td>\n",
       "      <td>-1.315444</td>\n",
       "    </tr>\n",
       "    <tr>\n",
       "      <th>3</th>\n",
       "      <td>-1.506521</td>\n",
       "      <td>0.098217</td>\n",
       "      <td>-1.283389</td>\n",
       "      <td>-1.315444</td>\n",
       "    </tr>\n",
       "    <tr>\n",
       "      <th>4</th>\n",
       "      <td>-1.021849</td>\n",
       "      <td>1.249201</td>\n",
       "      <td>-1.340227</td>\n",
       "      <td>-1.315444</td>\n",
       "    </tr>\n",
       "  </tbody>\n",
       "</table>\n",
       "</div>"
      ],
      "text/plain": [
       "   sepal_length  sepal_width  petal_length  petal_width\n",
       "0     -0.900681     1.019004     -1.340227    -1.315444\n",
       "1     -1.143017    -0.131979     -1.340227    -1.315444\n",
       "2     -1.385353     0.328414     -1.397064    -1.315444\n",
       "3     -1.506521     0.098217     -1.283389    -1.315444\n",
       "4     -1.021849     1.249201     -1.340227    -1.315444"
      ]
     },
     "execution_count": 91,
     "metadata": {},
     "output_type": "execute_result"
    }
   ],
   "source": [
    "scaler = StandardScaler()\n",
    "scaler_data = scaler.fit_transform(df[['sepal_length', 'sepal_width', 'petal_length', 'petal_width']])\n",
    "df_scaler = pd.DataFrame(scaler_data, columns=['sepal_length', 'sepal_width', 'petal_length', 'petal_width'])\n",
    "df_scaler.head()"
   ]
  },
  {
   "cell_type": "code",
   "execution_count": 111,
   "metadata": {},
   "outputs": [
    {
     "name": "stdout",
     "output_type": "stream",
     "text": [
      "전체 평균  실루엣 계수: 0.6741313114151009\n",
      "cluster_pred\n",
      "0    0.510323\n",
      "1    0.904516\n",
      "2    0.603815\n",
      "Name: scoef, dtype: float64\n",
      "응집도 :  18.026962612544075\n"
     ]
    }
   ],
   "source": [
    "model = KMeans(n_clusters=3, init='k-means++', max_iter=300, random_state=11)\n",
    "model.fit(df_scaler[['petal_length', 'petal_width']])\n",
    "cluster_pred = model.predict(df_scaler[['petal_length', 'petal_width']])\n",
    "df_scaler[\"cluster_pred\"] = cluster_pred\n",
    "\n",
    "\n",
    "myscore(df_scaler[['petal_length', 'petal_width']], df_scaler[\"cluster_pred\"], model)"
   ]
  },
  {
   "cell_type": "markdown",
   "metadata": {},
   "source": [
    "#### 최적의 군집 개수 찾기 / 검증(응집도)"
   ]
  },
  {
   "cell_type": "code",
   "execution_count": 112,
   "metadata": {},
   "outputs": [
    {
     "name": "stdout",
     "output_type": "stream",
     "text": [
      "전체 평균  실루엣 계수: 0.7433719503339133\n",
      "cluster_pred\n",
      "0    0.652617\n",
      "1    0.924881\n",
      "Name: scoef, dtype: float64\n",
      "전체 평균  실루엣 계수: 0.6741313114151009\n",
      "cluster_pred\n",
      "0    0.510323\n",
      "1    0.904516\n",
      "2    0.603815\n",
      "Name: scoef, dtype: float64\n",
      "전체 평균  실루엣 계수: 0.5988016665822246\n",
      "cluster_pred\n",
      "0    0.388798\n",
      "1    0.899435\n",
      "2    0.504836\n",
      "3    0.429358\n",
      "Name: scoef, dtype: float64\n",
      "전체 평균  실루엣 계수: 0.573563167783687\n",
      "cluster_pred\n",
      "0    0.475683\n",
      "1    0.888731\n",
      "2    0.368695\n",
      "3    0.402670\n",
      "4    0.411029\n",
      "Name: scoef, dtype: float64\n"
     ]
    },
    {
     "data": {
      "image/png": "[encoded data removed]",
      "text/plain": [
       "<Figure size 432x288 with 1 Axes>"
      ]
     },
     "metadata": {
      "needs_background": "light"
     },
     "output_type": "display_data"
    }
   ],
   "source": [
    "cluster_list = [2,3,4,5]\n",
    "inertia_list = []\n",
    "for c in cluster_list:\n",
    "    model = KMeans(n_clusters=c, init='k-means++', max_iter=300, random_state=11)\n",
    "    model.fit(df_scaler[['petal_length', 'petal_width']])\n",
    "    cluster_pred = model.predict(df_scaler[['petal_length', 'petal_width']])\n",
    "    df_scaler[\"cluster_pred\"] = cluster_pred\n",
    "\n",
    "    myscore(df_scaler[['petal_length', 'petal_width']], df_scaler[\"cluster_pred\"])    \n",
    "\n",
    "    #inertia_ : Sum of squared distances of samples to their closest cluster center.\n",
    "    #중앙점으로부터 각 점들의 거리^2 합\n",
    "    #작을수록 중앙점으로 몰려있다 = 응집도가 높다\n",
    "    inertia_list.append(model.inertia_) #응집도\n",
    "\n",
    "plt.plot(range(2,6), inertia_list)\n",
    "plt.xlabel = \"k-cluster\"\n",
    "plt.ylabel = \"cluster inertia\"\n",
    "plt.xticks(range(2,6))\n",
    "plt.show()"
   ]
  },
  {
   "cell_type": "markdown",
   "metadata": {},
   "source": [
    "## 검증 : cross tabulation"
   ]
  },
  {
   "cell_type": "code",
   "execution_count": 77,
   "metadata": {},
   "outputs": [
    {
     "name": "stdout",
     "output_type": "stream",
     "text": [
      "cluster_pred   0   1   2\n",
      "target                  \n",
      "0              0  50   0\n",
      "1              2   0  48\n",
      "2             46   0   4\n"
     ]
    }
   ],
   "source": [
    "model = KMeans(n_clusters=3, init='k-means++', max_iter=300, random_state=11)\n",
    "model.fit(df_scaler[['petal_length', 'petal_width']])\n",
    "cluster_pred = model.predict(df_scaler[['petal_length', 'petal_width']])\n",
    "df_scaler[\"cluster_pred\"] = cluster_pred\n",
    "df_scaler[\"target\"] = dataset.target\n",
    "\n",
    "ctab = pd.crosstab(df_scaler[\"target\"],df_scaler[\"cluster_pred\"])\n",
    "print(ctab)\n"
   ]
  },
  {
   "cell_type": "markdown",
   "metadata": {},
   "source": [
    "### 주요피쳐 < 정규화 < 정규화+PCA ??\n",
    "* 피쳐가 많아 모델이 복잡(과대적합)한 경우 or 학습이 불가한 경우 PCA가 효율적일 수 있다"
   ]
  },
  {
   "cell_type": "code",
   "execution_count": 113,
   "metadata": {},
   "outputs": [
    {
     "name": "stdout",
     "output_type": "stream",
     "text": [
      "(150, 2)\n",
      "주성분(PC) 2개가 전체 데이터를 얼마나 설명할수 있는가?\n",
      " 0.9581320720000164 [0.72962445 0.22850762]\n",
      "전체 평균  실루엣 계수: 0.5091683341538228\n",
      "cluster_pred\n",
      "0    0.441860\n",
      "1    0.654065\n",
      "2    0.430923\n",
      "Name: scoef, dtype: float64\n",
      "응집도 :  115.02075663594017\n"
     ]
    }
   ],
   "source": [
    "from sklearn.decomposition import PCA\n",
    "from sklearn.pipeline import make_pipeline\n",
    "\n",
    "scaler = StandardScaler()\n",
    "pca = PCA(n_components=2)\n",
    "pipeline = make_pipeline(scaler, pca)\n",
    "pca_res = pipeline.fit_transform(df[['sepal_length', 'sepal_width', 'petal_length', 'petal_width']])\n",
    "\n",
    "print(pca_res.shape)\n",
    "print(\"주성분(PC) 2개가 전체 데이터를 얼마나 설명할수 있는가?\\n\", np.sum(pca.explained_variance_ratio_), pca.explained_variance_ratio_)\n",
    "\n",
    "\n",
    "pca_df = pd.DataFrame(data=pca_res, columns=[\"pc1\", \"pc2\"])\n",
    "\n",
    "\n",
    "\n",
    "model = KMeans(n_clusters=3, init='k-means++', max_iter=300, random_state=11)\n",
    "model.fit(pca_df[[\"pc1\", \"pc2\"]])\n",
    "cluster_pred = model.predict(pca_df[[\"pc1\", \"pc2\"]])\n",
    "pca_df[\"cluster_pred\"] = cluster_pred\n",
    "\n",
    "myscore(pca_df[[\"pc1\", \"pc2\"]], pca_df[\"cluster_pred\"],model)\n",
    "\n"
   ]
  },
  {
   "cell_type": "code",
   "execution_count": null,
   "metadata": {},
   "outputs": [],
   "source": []
  }
 ],
 "metadata": {
  "kernelspec": {
   "display_name": "Python 3",
   "language": "python",
   "name": "python3"
  },
  "language_info": {
   "codemirror_mode": {
    "name": "ipython",
    "version": 3
   },
   "file_extension": ".py",
   "mimetype": "text/x-python",
   "name": "python",
   "nbconvert_exporter": "python",
   "pygments_lexer": "ipython3",
   "version": "3.6.8"
  }
 },
 "nbformat": 4,
 "nbformat_minor": 4
}
