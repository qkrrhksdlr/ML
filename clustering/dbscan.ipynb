{
 "cells": [
  {
   "cell_type": "code",
   "execution_count": 1,
   "metadata": {},
   "outputs": [],
   "source": [
    "# sklearn dataset : https://scikit-learn.org/stable/datasets/index.html\n",
    "\n",
    "from sklearn.datasets import load_iris\n",
    "\n",
    "import numpy as np\n",
    "import pandas as pd\n",
    "import seaborn as sns\n",
    "import matplotlib.pyplot as plt\n",
    "import warnings\n",
    "warnings.filterwarnings(action='ignore')\n",
    "\n",
    "from sklearn.ensemble import RandomForestClassifier\n",
    "from sklearn.model_selection import train_test_split\n",
    "from sklearn.metrics import classification_report\n",
    "from sklearn.metrics import accuracy_score, recall_score, precision_score, f1_score, confusion_matrix, roc_auc_score, roc_curve, precision_recall_curve, fbeta_score\n",
    "\n",
    "from sklearn.preprocessing import StandardScaler\n",
    "from sklearn.model_selection import GridSearchCV, cross_val_score, KFold, StratifiedKFold\n",
    "from sklearn.metrics import silhouette_score, silhouette_samples\n",
    "from scipy.cluster.hierarchy import linkage, dendrogram"
   ]
  },
  {
   "cell_type": "code",
   "execution_count": 2,
   "metadata": {},
   "outputs": [],
   "source": [
    "# ---------- X : dataframe 피쳐 , clables:centroid_pred\n",
    "def myscore(X, clabels, model=None):\n",
    "    score_df = pd.DataFrame()\n",
    "    scoef = silhouette_samples(X, clabels)\n",
    "    score_df[\"scoef\"] = scoef\n",
    "    score_df[\"cluster_pred\"] = clabels\n",
    "\n",
    "    print(\"전체 평균  실루엣 계수:\", np.mean(scoef))\n",
    "    print(score_df.groupby(\"cluster_pred\")[\"scoef\"].mean())\n",
    "    \n",
    "    if model != None:\n",
    "        #inertia_ : Sum of squared distances of samples to their closest cluster center.\n",
    "        #중앙점으로부터 각 점들의 거리^2 합\n",
    "        #작을수록 중앙점으로 몰려있다 = 응집도가 높다\n",
    "        print(\"응집도 : \", model.inertia_) #응집도"
   ]
  },
  {
   "cell_type": "code",
   "execution_count": 3,
   "metadata": {},
   "outputs": [],
   "source": [
    "dataset = load_iris()\n",
    "df = pd.DataFrame(data=dataset.data,\n",
    "                  #columns=dataset.feature_names\n",
    "                  columns=['sepal_length', 'sepal_width', 'petal_length', 'petal_width']\n",
    "                  )\n",
    "# df[\"target\"] = dataset.target"
   ]
  },
  {
   "cell_type": "code",
   "execution_count": 12,
   "metadata": {},
   "outputs": [
    {
     "name": "stdout",
     "output_type": "stream",
     "text": [
      "전체 평균  실루엣 계수: 0.7669465622770762\n",
      "cluster_pred\n",
      "0    0.934565\n",
      "1    0.683137\n",
      "Name: scoef, dtype: float64\n"
     ]
    }
   ],
   "source": [
    "from sklearn.cluster import DBSCAN\n",
    "model = DBSCAN(eps=0.5, min_samples=5)\n",
    "# fit() fit_predict()만 지원된다.\n",
    "# predict()는 지원하지 않는다.\n",
    "\n",
    "cluster_pred = model.fit_predict(df[['petal_length', 'petal_width']])\n",
    "df[\"cluster_pred\"] = cluster_pred\n",
    "df[\"cluster_labels\"] = model.labels_\n",
    "df.tail()\n",
    "\n",
    "myscore(df[['petal_length', 'petal_width']], df[\"cluster_pred\"])\n",
    "\n"
   ]
  },
  {
   "cell_type": "code",
   "execution_count": 14,
   "metadata": {},
   "outputs": [
    {
     "name": "stdout",
     "output_type": "stream",
     "text": [
      "cluster_pred   0   1\n",
      "target              \n",
      "0             50   0\n",
      "1              0  50\n",
      "2              0  50\n"
     ]
    }
   ],
   "source": [
    "df[\"target\"] = dataset.target\n",
    "\n",
    "ctab = pd.crosstab(df[\"target\"],df[\"cluster_pred\"])\n",
    "print(ctab)"
   ]
  },
  {
   "cell_type": "code",
   "execution_count": null,
   "metadata": {},
   "outputs": [],
   "source": []
  }
 ],
 "metadata": {
  "kernelspec": {
   "display_name": "Python 3",
   "language": "python",
   "name": "python3"
  },
  "language_info": {
   "codemirror_mode": {
    "name": "ipython",
    "version": 3
   },
   "file_extension": ".py",
   "mimetype": "text/x-python",
   "name": "python",
   "nbconvert_exporter": "python",
   "pygments_lexer": "ipython3",
   "version": "3.6.8"
  }
 },
 "nbformat": 4,
 "nbformat_minor": 4
}
